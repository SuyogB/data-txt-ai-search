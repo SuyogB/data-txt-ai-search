{
 "cells": [
  {
   "cell_type": "code",
   "execution_count": null,
   "metadata": {},
   "outputs": [],
   "source": [
    "%pip install -r requirements.txt\n",
    "# Install required packages from 'requirements.txt' (if necessary)."
   ]
  },
  {
   "cell_type": "code",
   "execution_count": 2,
   "metadata": {},
   "outputs": [],
   "source": [
    "from langchain_openai import OpenAI\n",
    "from langchain_community.document_loaders import TextLoader\n",
    "from langchain.text_splitter import RecursiveCharacterTextSplitter\n",
    "from langchain_openai import OpenAIEmbeddings\n",
    "from langchain_community.vectorstores import FAISS\n",
    "from langchain.chains import RetrievalQA\n",
    "import os\n",
    "from dotenv import load_dotenv"
   ]
  },
  {
   "cell_type": "code",
   "execution_count": 3,
   "metadata": {},
   "outputs": [],
   "source": [
    "load_dotenv()\n",
    "\n",
    "os.environ['OPENAI_API_KEY']=os.getenv(\"OPENAI_API_KEY\")"
   ]
  },
  {
   "cell_type": "code",
   "execution_count": 4,
   "metadata": {},
   "outputs": [
    {
     "data": {
      "text/plain": [
       "[Document(metadata={'source': 'data.txt'}, page_content='\\nEconomics\\nTOPICS\\nOUTLOOKS\\nRESEARCH CENTERS\\n\\n\\nFor You\\nIndia economic outlook, January 2025\\nAmid slowing GDP growth, demographic dividends and growing middle-class wealth are driving India’s resilience in consumption, services, and more importantly, capital markets\\n\\nArticle\\n • \\n11-min read\\n • \\n16 January 2025\\n • \\nDeloitte Global Economics Research Center\\nDr. Rumki Majumdar\\nDr. Rumki Majumdar\\nIndia\\nDebdatta Ghatak\\nDebdatta Ghatak\\nIndia\\nThe recent GDP growth figures of 5.4% year over year1 for the second quarter of fiscal year 2024 to 20252 probably caught markets off guard (it was significantly below the Reserve Bank of India’s projection of 6.8%). Slower growth in the first half of the fiscal (6%) led the RBI to bring down the annual projection to 6.6% (down from an earlier projection of 7%). However, it’s essential not to let the headline numbers overshadow the nuanced story beneath: GDP is just one lens to evaluate economic health, and this quarter reveals resilience in certain pockets that are worth noting.\\n\\nRural consumption has remained robust, supported by strong agricultural performance, while the services sector continues to be a key driver of growth. Manufacturing exports, particularly in high-value-added components (such as electronics, semiconductors, and pharmaceuticals), have displayed strength, underscoring India’s growing role in global value chains. We believe the slow growth in the secondary sector3 is temporary (due to disruptions caused by monsoons).\\n\\nEconomics\\nExplore from Deloitte Insights’ economics collection\\n\\nTake me to Economics.\\nDeloitte has revised its annual GDP growth projection for India to between 6.5% and 6.8% in this fiscal year, and between 6.7% and 7.3% in the following one. A tempered global growth outlook and a delayed synchronized recovery in the industrial economies amid changing trade and policy regulations—compared to what was previously expected—will likely weigh on India’s exports and outlook for the next fiscal year. India will have to adapt to the evolving global landscape and harness its domestic strengths to drive sustainable growth.\\n\\nThis quarter, we highlight one of the stories of economic decoupling from global uncertainties and resilience, yet again evident in the resilience of India’s capital markets that we have lately seen. Capital markets are critical to directing savings into investment, and their stability is key to ensuring a steady investment environment and making long-term investment decisions with confidence. This stability is the outcome of the rising participation of domestic institutional investors (DIIs)—something that has cushioned the impact of global uncertainties, as we found a statistically significant reduction in the sensitivity of capital markets to foreign capital volatility.\\n\\nThis reinforces confidence in India’s demographic dividend and growing middle-class wealth, which are not only important for driving consumption and strengthening the labor market, but also enhancing the stability of the nation’s financial markets.\\n\\nAs government prepares for the next budget, it should prioritize targeted measures to drive investments, emphasizing increased DII participation and securely channeling household savings into capital markets with protective safeguards.\\n\\nTable of Content\\nDecoding the Q2 slowdown\\nIndia’s near-term outlook\\nCapital market resilience\\nBalancing act\\nDecoding the slowdown in the second quarter\\nThe two methods of estimating economic activity are decoded as follows.\\n\\nOn the expenditure side, the slowdown in investments and exports were key factors weighing on the economy. Gross fixed capital formation (GFCF), a key driver of economic growth, slowed down to 5.4%. This was partly due to slower government capex utilization, which was at 37.3% in the first half of this year, lower than last year’s 49%.\\n\\nGeopolitical uncertainties and disruptions in global supply chains, particularly in the Red Sea region, continued to weigh on exports. Petroleum product exports experienced a consistent decline across all three months of the quarter, averaging an approximate 30% contraction. As a result, total export growth slowed to 2.8%. At the same time, imports were higher due to a rise in oil and gold imports.\\n\\nOn the production side, gross value added grew by 5.6% in the second quarter, down from 6.8% in the previous one, primarily due to poor performance in the secondary sector. The slowdown in the industrial sector was somewhat expected as the index of industrial production showed signs of slowing across multiple sectors, particularly in mining and electricity. Mining contracted by 0.1%, while electricity and other utilities grew by just 3.3% (a sharp decline from the previous quarter’s 10.4%). The construction sector grew 7.7%—its lowest since the last quarter of fiscal 2021 to 2022. Growth in manufacturing was modest, at 2.2% (down from 7%).\\n\\nWe believe these sectoral declines are temporary due to monsoon-driven disruptions (8% above-normal rainfall)4 and restrictive spending during elections. What is concerning is we also suspect the possibility of higher dumping from neighboring countries. Imports of goods such as plastics, organic chemicals, iron and steel products, machinery, and electronic components have seen a sharp jump in recent months and pose a significant threat in the months ahead amid restrictive trade regulations in industrialized nations.\\n\\nThere’s more than meets the eye\\nAmid this growth slowdown, there were a few emerging trends that pointed to inert resilience.\\n\\nRobust rural consumption: Agricultural growth hit a five-quarter high of 3.5%, aided by a strong monsoon season. Indicators like rising sales of fast-moving consumer goods and declining numbers of jobs demanded through the Mahatma Gandhi National Rural Employment Guarantee Act (more commonly, MGNREGA) confirm strength in rural demand. With healthy kharif5 harvests and improved rabi sowing, rural consumption is expected to remain strong, further boosted by festive season spending.6\\nStrong services sector growth: Services grew by 7.2%, driven by public administration and defense (9.1%) and finance, insurance, and real estate (7.2%). Services exports surged 21.3%. Between April and October 2024, total services exports stood at US$216 billion, compared to US$192 billion in 2023. This growth is crucial given the sector’s significant contribution to India’s GDP and employment, specifically for the urban middle-income population.\\nHigh-value manufacturing exports: Exports of electronics, engineering goods, and chemicals have grown significantly, now comprising 31% of total merchandise exports. Given that micro, small, and medium enterprises are significant contributors to manufacturing supply chains and exports, rising performance of these enterprises points to healthy growth in this export segment.\\nControlled fiscal deficit: The fiscal deficit stood at 4.4% of GDP in the second quarter of this fiscal year, accounting for 29.4% of the budget estimate, and standing 10% lower than last year. This gives government some room to ramp up spending to boost demand. With lower capital expenditure in the first half of this fiscal year, the government is poised to ramp up spending in the coming half, supporting demand and crowding in private investments. A significant uptick in government spending is expected in the second half of this fiscal year to meet budgetary targets, which may provide additional support to the economy and boost investment by crowding in private investments.\\n… But one cannot ignore potential risks\\nInflation concerns and monetary policy: Inflation has been above India’s central bank’s comfort zone in recent months, prompting the Reserve Bank of India to maintain policy rates for the eleventh consecutive bimonthly review in December, despite modest GDP growth in the first half of this fiscal year. Core inflation—which is below the central bank’s target—has also been inching upward, a trend that could potentially spiral up inflationary expectations and dampen consumer spending.\\nGlobal trade disruptions: Policy changes in industrialized nations could potentially alter supply chains and trade regulations, potentially affecting global trade dynamics and reducing demand for Indian exports.7\\nIndia’s near-term outlook\\nWe now expect India to grow between 6.5% and 6.8% in fiscal year 2024 to 2025, in our baseline scenario. Although admittedly lower than previously estimated, because of a slower first half of the year, we expect strong domestic demand in the second half, driven by a significant uptick in government spending).\\n\\nThis will be followed by growth between 6.7% and 7.3% in fiscal year 2025 to 2026, with significant downside risks (hence a wider range; figure 1). India’s growth projections in the subsequent year will likely be tied to broader global trends, including rising geopolitical uncertainties and a delayed synchronous recovery in the West than anticipated. Disruptions to global trade and supply chain due to intensifying geopolitical uncertainties will also affect demand for exports. Despite these challenges, we will continue to see the difference between actual GDP and no–COVID-19 levels progressively narrowing as growth picks up pace (for more on our baseline and pessimistic scenario assumptions, see “Key assumptions for Deloitte’s projections”).\\n\\n\\nInflation concerns are back, but with strong agricultural output and proactive government interventions improving the food supply chain, inflation may remain range-bound, although above the RBI’s comfort level. Inflation may ease early next fiscal year, and we expect inflation to slowly revert to the central bank’s target of 4% from early next year and remain within range over the forecast period (figure 2).\\n\\n\\nCapital market resilience is changing investment dynamics\\nGFCF, a critical metric for investment activity and one of the steadfast growth engines over the past four years, slowed down the past quarter. This has caused concern for domestic demand, underscoring the challenges causing the slowdown in growth.\\n\\nSlowing government spending on capex: One of the primary reasons for the second-quarter decline was subdued public capital expenditure at both central and state levels. This dip is attributable to the election cycle at the centre and a few key states and monsoon-related disruptions. At the state level, of the top five states by economic size, not only has there been low utilization of capex budgets, but for three of these five states, this utilization has fallen from the previous year (figure 3). We expect this drop in capex spending to be temporary and expect a revival as government spending picks up post elections, particularly in areas such as infrastructure.\\n\\n\\nA modest recovery in private investment:  While modest consumption demand has been one of the factors driving low private sector investments, global uncertainties about future trade, investment outlook, and changing technology and its impact too had dampened investors’ sentiments. Subdued corporate profits have further exacerbated the slowdown in GFCF.\\n\\nWe believe that even private investments are likely to turn around soon.\\n\\nA rebound in government capex spending will crowd in private investments.\\nConsumer spending has now grown consistently for two consecutive quarters and the festive quarter will likely keep the momentum up.\\nIndustrial capacity utilization has been relatively high.\\nCapital markets are resilient despite global market volatility.\\nResilience in the capital market amid foreign volatility\\nCapital markets are critical for accessing funds at lower costs, facilitating expansion, innovation, and risk-taking, and their stability fosters a conducive environment for business investments. However, the last two months have seen extreme volatility in markets due to a strong pullout of foreign institutional investors from the markets.8\\n\\nOctober 2024 was a record month for the Indian market, as foreign institutional investors (FIIs) recorded their sharpest withdrawal since March 2020. FII assets under custody in equities dropped by 9.1% to US$846.1 billion, down from US$930.4 billion a month ago.9 Notably, before October, the last major sell-off by FIIs occurred during the COVID-19 market crash. The trend continued in November and partly in December, albeit at a moderate pace.10\\n\\nA similar trend was observed in other emerging nations as well.11 Investors reacted to various factors such as China’s economic stimulus measures, weaker-than-expected corporate earnings for the quarter, and geopolitical uncertainties surrounding the US elections. These factors contributed to a correction in India’s stock market, reducing the median price-to-earnings ratio from 24 to align closer to the long-term average of 21.9.12\\n\\nWhat is notable is that despite sharp outflows of FIIs over the past two months, the Indian capital market demonstrated notable resilience. The decline in market indices was notably less severe compared to previous episodes of FII outflows and volatility. Prior to 2020, the sensitivity of the Indian capital market movements to changes in FII was much higher (figure 4). That has come down post 2020. Regression analysis confirms that Indian capital markets are less sensitive (statistically significant) to foreign capital volatility after 2020 and both the models are good fits (see “Regression analysis”).\\n\\nRegression analysis\\nTo prove  the hypothesis that Indian capital markets became less sensitive to foreign capital volatility after 2020, we regressed changes in Sensex values (dependent variable) on the FII volatility (net inflows as independent variable).\\n\\n \\n\\nA log regression of changes in the Sensex against net FII movements for two distinct periods—pre-March 2020 and post-March 2020—shows a statistically significant shift in the sensitivity of the former to the latter. Between November 2011 and February 2020, a 1% decline in FII inflows corresponded to a 72% change in the pace of the Sensex movement in the same direction. However, from March 2020 to October 2024, this sensitivity dropped to 13% (figure 4). This indicates a decreasing response of the Sensex market to the volatility in FII flows.\\n\\n\\nThis post-2020 shift in capital market dynamics is attributable to the increasing participation of domestic institutional investors, which has bolstered market stability. This growing influence of DIIs, who have emerged as a critical counterbalance to foreign capital outflows, has contributed to the stability of Indian capital markets.\\n\\nDII contributions are increasingly offsetting FII outflows over the years (figure 5). Between 2011 and 2020, DIIs have actively invested in financial markets—offsetting FII outflows by approximately 70% by 2020, up from 45% in 2011. This ratio reached 74% in 2024.\\n\\nIn October 2024, DIIs cushioned the record levels of FII outflows by 82% (figure 5). \\n\\n\\nThe increasing participation of domestic investors underscores India’s demographic dividend and rising middle-class wealth. This shift is not only fueling consumption and bolstering the labor market but also strengthening the resilience of India’s capital markets. The growing appetite of domestic investors for equity investments reflects an increasing channelization of household savings and a broader structural transformation, diversifying the investor base, providing consistent liquidity, and enhancing the market’s capacity to weather external shocks.\\n\\nBalancing act: Leveraging fiscal space to boost investments\\nGiven that this is the last GDP data released before the centre announces its budget for fiscal 2025 to 2026, government may prioritize strengthening domestic demand, most likely by focusing efforts on boosting consumer spending.\\n\\nWe believe there should be several measures to boost investments and household participation in capital markets. India needs capital to reach the economic goals it sets for itself.13\\n\\nSome expectations for government efforts would be:\\n\\nFocus back on capex with more fund allocation toward key infrastructure, and push states for better utilization of allocated capex funds.\\nEncourage domestic investors through simplifying investment processes, incentivizing retirement fund investments, expanding regional outreach (by bringing more households into the financial ecosystem), and providing financial literacy and awareness campaigns.\\nWhile there are comprehensive safety mechanisms put in place to safeguard household savings from capital market volatility, vigilance should continue to build trust.\\n\\nContinue upskilling initiatives and addressing skills gaps, especially in technology, industry-relevant, professional skills, to make workforces future-ready and create a robust pipeline of high-quality talent. Better employment opportunities will not only generate more savings available for investments, but better talent will also help India attract global investors.\\nDrive investments in the digital ecosystem to channelize savings effectively by prioritizing incentives for fintech innovation, expanding tax benefits on digital investment platforms, and allocating funds for open digital infrastructure development.\\nTo read more on our expectations from the Union Budget 2025 to 2026, please visit Union Budget 2025 Expectations: Policy and Economics Advice.\\n\\nKey assumptions for Deloitte’s projections\\nDeloitte’s assumptions can be grouped into two buckets, namely an “optimistic” and a “pessimistic” scenario, with the former being more likely.\\n\\n \\n\\nOptimistic scenario\\n \\nThe world will enjoy synchronous growth in the latter half of 2025 with minimal impact of regional or trade wars on global supply chains and the economy. Government changes in the advanced economies do result in some policy shifts, but the implications on trade and investments are limited. These economies see strong rebounds over the next two years. In India, political stability, policy continuity, and strong reforms increase investor confidence and boost investment, leading to increased jobs and higher income.\\n\\nThe US Federal Reserve will cut policy rates at least twice as indicated next year as inflation moderates.\\nStimulus in China helps the country recover in the short run leading to better trade and investment.\\nCrude oil prices remain range-bound due to a balanced demand from emerging nations and a supply of crude oil from the United States.\\nThe RBI maintains a tighter monetary policy till early this year to keep inflation under check, a vigil on unsecured lending, and the interest differential with the US Fed policy rate attractive for global investors.\\nGovernment efforts toward expense consolidation continue, supported by buoyant revenues and higher dividends from public sector undertakings and the RBI. However, government ramps up capex spending on key infrastructure projects.\\nThe dollar price index appreciates initially but then remains range-bound. This could cause marginal volatility in the Indian rupee, but the RBI is vigilant against fluctuations.\\nPessimistic scenario\\n \\n\\nRegions with ongoing conflicts see prolonged uncertainties, with wars in the Middle East spreading into other parts of the world. Because of political and policy changes, the United States and Europe enter stretches of recession, and investment and trade scenarios worsen. China’s economy slows down, and supply disruptions cause high inflation. Monetary policy remains tight in both the West and India.\\n\\nShow more\\nBy\\nDr. Rumki Majumdar\\nIndia\\nDebdatta Ghatak\\nIndia\\nEndnotes\\nAll growth numbers are measured year over year unless mentioned otherwise.\\n\\nView in Article\\nIn India, fiscal years span from April 1 to March 31 in the following year: That is, fiscal 2024 to 2025 (the general format used in the country) would be from April 1, 2024, to March 31, 2025. \\n\\nView in Article\\nSecondary sector comprises manufacturing, electricity and other utilities, and construction sector.\\n\\nView in Article\\nJacob Koshy, “Monsoon 2024 ends with 8% more rain than historical average,” The Hindu, Oct. 1, 2024. \\n\\nView in Article\\n“Kharif” crops are cultivated and harvested in the monsoon season (roughly from June to November) across the Indian subcontinent. These crops require good rainfall, in contrast with “rabi” crops or winter crops. \\n\\nView in Article\\nFestive season spending refers to the heightened expenditure typically observed from October to December, coinciding with the majority of festivals.\\n\\nView in Article\\nThe Economic Times, “Trump’s ‘America First’ agenda may lead to higher tariffs on Indian auto, textiles, pharma: Experts,” Nov. 6, 2024.\\n\\nView in Article\\nGeorge Mathew, “Foreign investors pull out Rs 1.55 lakh crore from Indian stock market since October; sell-off intensity to decline,” The Indian Express, Nov. 27, 2024. \\n\\nView in Article\\nRavindra Sonavane, “Foreign institutional investors ownership of Indian shares hits 12-year low, dips below 16%,” Moneycontrol, Nov. 8, 2024. \\n\\nView in Article\\nNachiket Kelkar, “Despite the massive FII sell-off in October, long-term funds still looking to enter India, says Morningstar’s Belapurkar,” The Week, Oct. 23, 2024. \\n\\nView in Article\\nSindhu Hariharan, “At US$10,428 million, India records the highest foreign portfolio investment outflow from equity market in October,” The Hindu, Nov. 7, 2024.\\n\\nView in Article\\nICICI Securities, “Why are FIIs or foreign institutional investors exiting India?” ICICI Direct, Nov. 6, 2024. \\n\\nView in Article\\nPress Information Bureau, “Government unveils vision for the next decade,” Ministry of Finance, Government of India, Feb. 1, 2019.\\n\\nView in Article\\nAcknowledgments\\nCover image by: Rahul Bodiga\\n\\nVisit the Deloitte Global Economics Research Center\\nGet more insights\\nAccess more insights for the consumer spending, housing, business investment, globalization & international trade, fiscal & monetary policy, sustainability, equity, & climate, labor markets and prices & inflation sectors.\\n\\nRelated Content\\n\\nJapan economic outlook, October 2024\\nJapan\\'s economy is seeing increased domestic demand and robust consumer spending, but inflation remains a major risk\\n\\nArticle\\n • \\n5-min read\\n\\nGlobal Weekly Economic Update\\nJanuary 2025\\n\\nArticle\\n\\nHousing struggles to stave off headwinds\\nLack of affordable housing and high mortgage rates are major hurdles for the housing market. Some relief may come in the near term, but long-term challenges remain.\\n\\nArticle\\n • \\n6-min read\\n\\nUnited States Economic Forecast Q4 2024\\nThe US economy remains strong with robust consumer spending and high business investment, but its future trajectory largely hinges on the policies of the incoming administration.\\n\\nArticle\\n • \\n18-min read\\nEXPLORE MORE TOPICS IN THIS ARTICLE\\nEconomics  Economics-Consumer Spending  Globalization & International Trade  Fiscal & Monetary Policy  Labor Markets  Prices & Inflation\\nDeloitte Insights and our research centers deliver proprietary research designed to help organizations turn their aspirations into action.\\n\\nDeloitte Insights\\nHome\\nTopics\\nIndustries\\nAbout Deloitte Insights\\nDELOITTE RESEARCH CENTERS\\nCross-Industry\\nEconomics\\nConsumer\\nEnergy & Industrials\\nFinancial Services\\nGovernment & Public Services\\nLife Sciences & Health Care\\nTech, Media & Telecom\\nDeloitte logo \\nLearn about Deloitte’s offerings, people, and culture as a global provider of audit, assurance, consulting, financial advisory, risk advisory, tax, and related services.\\n\\n© 2025. See Terms of Use for more information.\\n\\nDeloitte refers to one or more of Deloitte Touche Tohmatsu Limited, a UK private company limited by guarantee (\"DTTL\"), its network of member firms, and their related entities. DTTL and each of its member firms are legally separate and independent entities. DTTL (also referred to as \"Deloitte Global\") does not provide services to clients. In the United States, Deloitte refers to one or more of the US member firms of DTTL, their related entities that operate using the \"Deloitte\" name in the United States and their respective affiliates. Certain services may not be available to attest clients under the rules and regulations of public accounting. Please see www.deloitte.com/about to learn more about our global network of member firms.\\n\\nAbout Deloitte \\nTerms of Use \\nPrivacy \\nData Privacy Framework \\nCookies \\nCookie Settings \\nLegal Information for Job Seekers \\nLabor Condition Applications \\nDo Not Sell My Personal Information')]"
      ]
     },
     "execution_count": 4,
     "metadata": {},
     "output_type": "execute_result"
    }
   ],
   "source": [
    "## Data Ingestion\n",
    "loader=TextLoader(\"data.txt\", encoding=\"utf-8\")\n",
    "text_documents=loader.load()\n",
    "text_documents"
   ]
  },
  {
   "cell_type": "code",
   "execution_count": 5,
   "metadata": {},
   "outputs": [
    {
     "data": {
      "text/plain": [
       "Document(metadata={'source': 'data.txt'}, page_content='Economics\\nTOPICS\\nOUTLOOKS\\nRESEARCH CENTERS\\n\\n\\nFor You\\nIndia economic outlook, January 2025\\nAmid slowing GDP growth, demographic dividends and growing middle-class wealth are driving India’s resilience in consumption, services, and more importantly, capital markets')"
      ]
     },
     "execution_count": 5,
     "metadata": {},
     "output_type": "execute_result"
    }
   ],
   "source": [
    "text_splitter=RecursiveCharacterTextSplitter(chunk_size=1000,chunk_overlap=200,length_function=len)\n",
    "documents=text_splitter.split_documents(text_documents)\n",
    "documents[0]"
   ]
  },
  {
   "cell_type": "code",
   "execution_count": 6,
   "metadata": {},
   "outputs": [
    {
     "data": {
      "text/plain": [
       "35"
      ]
     },
     "execution_count": 6,
     "metadata": {},
     "output_type": "execute_result"
    }
   ],
   "source": [
    "len(documents)\n"
   ]
  },
  {
   "cell_type": "code",
   "execution_count": 7,
   "metadata": {},
   "outputs": [],
   "source": [
    "embedding = OpenAIEmbeddings()"
   ]
  },
  {
   "cell_type": "code",
   "execution_count": 8,
   "metadata": {},
   "outputs": [],
   "source": [
    "vector_store = FAISS.from_documents(documents, embedding=embedding)\n",
    "vector_store.save_local(\"faiss_index_india_econ\")"
   ]
  },
  {
   "cell_type": "code",
   "execution_count": 9,
   "metadata": {},
   "outputs": [],
   "source": [
    "Query1 = \"What is India's projected GDP growth for the fiscal year 2024-2025?\""
   ]
  },
  {
   "cell_type": "code",
   "execution_count": 10,
   "metadata": {},
   "outputs": [],
   "source": [
    "Query_Answer = vector_store.similarity_search(Query1)"
   ]
  },
  {
   "cell_type": "code",
   "execution_count": 11,
   "metadata": {},
   "outputs": [
    {
     "name": "stdout",
     "output_type": "stream",
     "text": [
      "India’s near-term outlook\n",
      "We now expect India to grow between 6.5% and 6.8% in fiscal year 2024 to 2025, in our baseline scenario. Although admittedly lower than previously estimated, because of a slower first half of the year, we expect strong domestic demand in the second half, driven by a significant uptick in government spending).\n"
     ]
    }
   ],
   "source": [
    "print(Query_Answer[0].page_content)"
   ]
  },
  {
   "cell_type": "code",
   "execution_count": 12,
   "metadata": {},
   "outputs": [],
   "source": [
    "docs_and_scores = vector_store.similarity_search_with_score(Query1)"
   ]
  },
  {
   "cell_type": "code",
   "execution_count": 13,
   "metadata": {},
   "outputs": [
    {
     "data": {
      "text/plain": [
       "(Document(metadata={'source': 'data.txt'}, page_content='India’s near-term outlook\\nWe now expect India to grow between 6.5% and 6.8% in fiscal year 2024 to 2025, in our baseline scenario. Although admittedly lower than previously estimated, because of a slower first half of the year, we expect strong domestic demand in the second half, driven by a significant uptick in government spending).'),\n",
       " 0.15318276)"
      ]
     },
     "execution_count": 13,
     "metadata": {},
     "output_type": "execute_result"
    }
   ],
   "source": [
    "docs_and_scores[0]"
   ]
  },
  {
   "cell_type": "code",
   "execution_count": 14,
   "metadata": {},
   "outputs": [],
   "source": [
    "retriever = vector_store.as_retriever()"
   ]
  },
  {
   "cell_type": "code",
   "execution_count": 15,
   "metadata": {},
   "outputs": [],
   "source": [
    "qa = RetrievalQA.from_chain_type(llm=OpenAI(), chain_type=\"stuff\", retriever=retriever)"
   ]
  },
  {
   "cell_type": "code",
   "execution_count": 16,
   "metadata": {},
   "outputs": [
    {
     "name": "stdout",
     "output_type": "stream",
     "text": [
      "{'query': \"What is India's projected GDP growth for the fiscal year 2024-2025?\", 'result': \" India's projected GDP growth for the fiscal year 2024-2025 is between 6.5% and 6.8%.\"}\n"
     ]
    }
   ],
   "source": [
    "retriever_query1 = \"What is India's projected GDP growth for the fiscal year 2024-2025?\"\n",
    "\n",
    "results = qa.invoke(retriever_query1)\n",
    "print(results)"
   ]
  },
  {
   "cell_type": "code",
   "execution_count": 17,
   "metadata": {},
   "outputs": [
    {
     "name": "stdout",
     "output_type": "stream",
     "text": [
      "{'query': 'What factors are contributing to the expected strong domestic demand in the second half of the fiscal year?', 'result': ' A significant uptick in government spending and crowding in private investments.'}\n"
     ]
    }
   ],
   "source": [
    "retriever_query2 = \"What factors are contributing to the expected strong domestic demand in the second half of the fiscal year?\"\n",
    "\n",
    "results = qa.invoke(retriever_query2)\n",
    "print(results)"
   ]
  },
  {
   "cell_type": "code",
   "execution_count": 18,
   "metadata": {},
   "outputs": [
    {
     "name": "stdout",
     "output_type": "stream",
     "text": [
      "{'query': 'What is the projected GDP growth for the fiscal year 2025-2026?', 'result': ' The projected GDP growth for the fiscal year 2025-2026 is between 6.7% and 7.3%.'}\n"
     ]
    }
   ],
   "source": [
    "retriever_query3 = \"What is the projected GDP growth for the fiscal year 2025-2026?\"\n",
    "\n",
    "results = qa.invoke(retriever_query3)\n",
    "print(results)"
   ]
  },
  {
   "cell_type": "code",
   "execution_count": 19,
   "metadata": {},
   "outputs": [
    {
     "name": "stdout",
     "output_type": "stream",
     "text": [
      "{'query': \"What are the significant downside risks to India's economic growth outlook?\", 'result': \" The significant downside risks to India's economic growth outlook include potential inflation concerns, disruptions to global trade and supply chain, and geopolitical uncertainties affecting demand for exports.\"}\n"
     ]
    }
   ],
   "source": [
    "retriever_query4 = \"What are the significant downside risks to India's economic growth outlook?\"\n",
    "\n",
    "results = qa.invoke(retriever_query4)\n",
    "print(results)"
   ]
  },
  {
   "cell_type": "code",
   "execution_count": 20,
   "metadata": {},
   "outputs": [
    {
     "name": "stdout",
     "output_type": "stream",
     "text": [
      "{'query': \"How have geopolitical uncertainties affected India's economic projections?\", 'result': \" Geopolitical uncertainties have led to significant downside risks in India's economic projections, resulting in a wider range of growth projections and a potential delay in global recovery. They have also caused disruptions to global trade and supply chains, potentially affecting demand for Indian exports. Additionally, changes in policy and political stability in advanced economies may have limited implications on trade and investments, which could impact India's economic growth.\"}\n"
     ]
    }
   ],
   "source": [
    "retriever_query5 = \"How have geopolitical uncertainties affected India's economic projections?\"\n",
    "\n",
    "results = qa.invoke(retriever_query5)\n",
    "print(results)"
   ]
  },
  {
   "cell_type": "code",
   "execution_count": 21,
   "metadata": {},
   "outputs": [
    {
     "name": "stdout",
     "output_type": "stream",
     "text": [
      "{'query': \"What impact could disruptions to global trade and supply chains have on India's economy?\", 'result': \" Disruptions to global trade and supply chains could potentially affect demand for Indian exports and weigh on India's economic growth.\"}\n"
     ]
    }
   ],
   "source": [
    "retriever_query6 = \"What impact could disruptions to global trade and supply chains have on India's economy?\"\n",
    "\n",
    "results = qa.invoke(retriever_query6)\n",
    "print(results)"
   ]
  },
  {
   "cell_type": "code",
   "execution_count": 22,
   "metadata": {},
   "outputs": [
    {
     "name": "stdout",
     "output_type": "stream",
     "text": [
      "{'query': 'How does the current growth projection compare to previous estimates?', 'result': ' The current growth projection is lower than previous estimates, with a range of 6.7% to 7.3% in fiscal year 2025 to 2026. This is due to significant downside risks and potential disruptions to global trade and supply chain.'}\n"
     ]
    }
   ],
   "source": [
    "retriever_query7 = \"How does the current growth projection compare to previous estimates?\"\n",
    "\n",
    "results = qa.invoke(retriever_query7)\n",
    "print(results)"
   ]
  },
  {
   "cell_type": "code",
   "execution_count": 23,
   "metadata": {},
   "outputs": [
    {
     "name": "stdout",
     "output_type": "stream",
     "text": [
      "{'query': \"What role does government spending play in India's economic outlook?\", 'result': ' Government spending can play a significant role in boosting domestic demand and supporting economic growth in India. The government may prioritize strengthening domestic demand, particularly by focusing on boosting consumer spending, in order to drive sustainable growth. However, government spending must be carefully managed to balance the potential risks of inflation and maintain fiscal stability.'}\n"
     ]
    }
   ],
   "source": [
    "retriever_query8 = \"What role does government spending play in India's economic outlook?\"\n",
    "\n",
    "results = qa.invoke(retriever_query8)\n",
    "print(results)"
   ]
  },
  {
   "cell_type": "code",
   "execution_count": 24,
   "metadata": {},
   "outputs": [
    {
     "name": "stdout",
     "output_type": "stream",
     "text": [
      "{'query': 'What are the implications of a delayed synchronous recovery in Western economies for India?', 'result': \" The delayed synchronized recovery in Western economies could potentially weigh on India's exports and outlook for the next fiscal year. This could also result in a slower pace of growth for India and could require the country to adapt to the evolving global landscape and focus on harnessing its domestic strengths to drive sustainable growth.\"}\n"
     ]
    }
   ],
   "source": [
    "retriever_query9 = \"What are the implications of a delayed synchronous recovery in Western economies for India?\"\n",
    "\n",
    "results = qa.invoke(retriever_query9)\n",
    "print(results)"
   ]
  },
  {
   "cell_type": "code",
   "execution_count": 25,
   "metadata": {},
   "outputs": [
    {
     "name": "stdout",
     "output_type": "stream",
     "text": [
      "{'query': 'What measures can India take to mitigate the risks associated with geopolitical uncertainties and global trade disruptions?', 'result': ' India can focus on strengthening domestic institutional investment and increasing its middle-class wealth to boost consumption and stabilize its financial markets. It can also monitor and regulate imports from neighboring countries to prevent dumping and protect its domestic industries. Additionally, India can look for alternative trade partners and diversify its export markets to mitigate the impact of trade disruptions in industrialized nations. '}\n"
     ]
    }
   ],
   "source": [
    "retriever_query10 = \"What measures can India take to mitigate the risks associated with geopolitical uncertainties and global trade disruptions?\"\n",
    "\n",
    "results = qa.invoke(retriever_query10)\n",
    "print(results)"
   ]
  },
  {
   "cell_type": "code",
   "execution_count": null,
   "metadata": {},
   "outputs": [],
   "source": []
  }
 ],
 "metadata": {
  "kernelspec": {
   "display_name": "venv",
   "language": "python",
   "name": "python3"
  },
  "language_info": {
   "codemirror_mode": {
    "name": "ipython",
    "version": 3
   },
   "file_extension": ".py",
   "mimetype": "text/x-python",
   "name": "python",
   "nbconvert_exporter": "python",
   "pygments_lexer": "ipython3",
   "version": "3.10.0"
  }
 },
 "nbformat": 4,
 "nbformat_minor": 2
}
